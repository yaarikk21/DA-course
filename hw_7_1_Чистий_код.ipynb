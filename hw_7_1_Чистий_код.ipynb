{
  "cells": [
    {
      "cell_type": "markdown",
      "metadata": {
        "id": "view-in-github",
        "colab_type": "text"
      },
      "source": [
        "<a href=\"https://colab.research.google.com/github/yaarikk21/DA-course/blob/main/hw_7_1_%D0%A7%D0%B8%D1%81%D1%82%D0%B8%D0%B9_%D0%BA%D0%BE%D0%B4.ipynb\" target=\"_parent\"><img src=\"https://colab.research.google.com/assets/colab-badge.svg\" alt=\"Open In Colab\"/></a>"
      ]
    },
    {
      "cell_type": "markdown",
      "id": "aed503f1",
      "metadata": {
        "ExecuteTime": {
          "end_time": "2023-07-27T20:14:32.871852Z",
          "start_time": "2023-07-27T20:14:31.036121Z"
        },
        "id": "aed503f1"
      },
      "source": [
        "У завданнях 1-4. Вам наданий простий код на Python, який не відповідає вказівкам PEP8. Ваше завдання — відредагувати код так, аби він відповідав PEP8. Напишіть після редагуванню коду, дотримання яких правил з pep8 ви досягли в відредагованій версі, наприклад\n",
        "```\n",
        "- додала пробіли навколо бінарного оператора\n",
        "- додала два порожні рядки між визначеннями функцій\n",
        "і тд\n",
        "```\n",
        "Також можна зазанчити використані правила коментарями по коду, а не окремим повідомленням.\n",
        "\n",
        "Відредагований код має виконувати весь той самий функціонал, але бути написаний відповідно до вимог до гарного коду на Python! Не забудьте запустити відредагований код, він має бути робочим."
      ]
    },
    {
      "cell_type": "markdown",
      "id": "e7fea147",
      "metadata": {
        "id": "e7fea147"
      },
      "source": [
        "Завдання 1."
      ]
    },
    {
      "cell_type": "code",
      "execution_count": 1,
      "id": "f63d84d7",
      "metadata": {
        "ExecuteTime": {
          "end_time": "2023-07-29T17:02:37.075783Z",
          "start_time": "2023-07-29T17:02:37.035259Z"
        },
        "id": "f63d84d7",
        "outputId": "4f5ccb86-4a34-495f-dc3d-e8b0106a48d6",
        "colab": {
          "base_uri": "https://localhost:8080/",
          "height": 69
        }
      },
      "outputs": [
        {
          "output_type": "stream",
          "name": "stdout",
          "text": [
            "Hello, John\n"
          ]
        },
        {
          "output_type": "display_data",
          "data": {
            "text/plain": [
              "None"
            ]
          },
          "metadata": {}
        },
        {
          "output_type": "display_data",
          "data": {
            "text/plain": [
              "8"
            ]
          },
          "metadata": {}
        }
      ],
      "source": [
        "def greet(name):print(f\"Hello, {name}\")\n",
        "def add(n1,n2):return n1+n2\n",
        "\n",
        "x = 5;y = 3\n",
        "display(greet(\"John\"),add(x,y))\n"
      ]
    },
    {
      "cell_type": "code",
      "execution_count": 2,
      "id": "41b7e672",
      "metadata": {
        "id": "41b7e672",
        "outputId": "c5665f24-cc1d-4586-a189-4bfbe7488edc",
        "colab": {
          "base_uri": "https://localhost:8080/",
          "height": 69
        }
      },
      "outputs": [
        {
          "output_type": "stream",
          "name": "stdout",
          "text": [
            "Hello, John\n"
          ]
        },
        {
          "output_type": "display_data",
          "data": {
            "text/plain": [
              "None"
            ]
          },
          "metadata": {}
        },
        {
          "output_type": "display_data",
          "data": {
            "text/plain": [
              "8"
            ]
          },
          "metadata": {}
        }
      ],
      "source": [
        "def greet(name):\n",
        "    print(f\"Hello, {name}\")\n",
        "\n",
        "\n",
        "def add(n1, n2):\n",
        "    return n1 + n2\n",
        "\n",
        "\n",
        "x = 5\n",
        "y = 3\n",
        "display(greet(\"John\"), add(x, y))\n"
      ]
    },
    {
      "cell_type": "markdown",
      "source": [
        "1. Додав два порожні рядки між визначеннями функцій.\n",
        "2. Додав пробіли після ком для розділення аргументів.\n",
        "3. Вирівняв змінні x та y на окремих рядках.\n",
        "4. Додав порожній рядок в кінці файлу."
      ],
      "metadata": {
        "id": "b4-dSrhhEtxQ"
      },
      "id": "b4-dSrhhEtxQ"
    },
    {
      "cell_type": "markdown",
      "id": "cea88baf",
      "metadata": {
        "id": "cea88baf"
      },
      "source": [
        "Завдання 2."
      ]
    },
    {
      "cell_type": "code",
      "execution_count": 3,
      "id": "dfb6d2b5",
      "metadata": {
        "ExecuteTime": {
          "end_time": "2023-07-29T17:05:49.706098Z",
          "start_time": "2023-07-29T17:05:49.688255Z"
        },
        "id": "dfb6d2b5",
        "outputId": "328b444f-9b27-4e3b-d835-112ab7b81a0c",
        "colab": {
          "base_uri": "https://localhost:8080/"
        }
      },
      "outputs": [
        {
          "output_type": "stream",
          "name": "stdout",
          "text": [
            "Area: 78.53981633974483 Circumference: 31.41592653589793\n"
          ]
        }
      ],
      "source": [
        "from math import *\n",
        "def calcArea(r):return pi*r**2\n",
        "def calcCircumference(r):return 2*pi*r\n",
        "\n",
        "radius=5\n",
        "print(\"Area:\",calcArea(radius),\"Circumference:\",calcCircumference(radius))"
      ]
    },
    {
      "cell_type": "code",
      "execution_count": 4,
      "id": "df263672",
      "metadata": {
        "id": "df263672",
        "outputId": "a298e6aa-924b-4500-ea57-ef0298175cc1",
        "colab": {
          "base_uri": "https://localhost:8080/"
        }
      },
      "outputs": [
        {
          "output_type": "stream",
          "name": "stdout",
          "text": [
            "Area: 78.53981633974483 Circumference: 31.41592653589793\n"
          ]
        }
      ],
      "source": [
        "from math import pi\n",
        "\n",
        "\n",
        "def calc_area(r):\n",
        "    return pi * r ** 2\n",
        "\n",
        "\n",
        "def calc_circumference(r):\n",
        "    return 2 * pi * r\n",
        "\n",
        "\n",
        "radius = 5\n",
        "print(\"Area:\", calc_area(radius), \"Circumference:\", calc_circumference(radius))\n"
      ]
    },
    {
      "cell_type": "markdown",
      "source": [
        "1. Додав два порожні рядки між визначеннями функцій.\n",
        "2. Уник імпорту всього з модуля, імпортовано лише pi.\n",
        "3. Використав snake_case для іменування функцій.\n",
        "4. Перенес змінну radius на окремий рядок.\n",
        "5. Додав порожній рядок в кінці файлу."
      ],
      "metadata": {
        "id": "pPAKQYK8FGtE"
      },
      "id": "pPAKQYK8FGtE"
    },
    {
      "cell_type": "markdown",
      "id": "1fd691b7",
      "metadata": {
        "id": "1fd691b7"
      },
      "source": [
        "Завдання 3."
      ]
    },
    {
      "cell_type": "code",
      "execution_count": 5,
      "id": "1d5acb2d",
      "metadata": {
        "ExecuteTime": {
          "end_time": "2023-07-29T17:06:18.612622Z",
          "start_time": "2023-07-29T17:06:18.598477Z"
        },
        "id": "1d5acb2d"
      },
      "outputs": [],
      "source": [
        "class animal: pass\n",
        "class dog(animal):\n",
        "    def __init__(self,name):\n",
        "        self.name=name\n",
        "        self.type='Dog'"
      ]
    },
    {
      "cell_type": "code",
      "execution_count": 7,
      "id": "0d4b2b8a",
      "metadata": {
        "id": "0d4b2b8a"
      },
      "outputs": [],
      "source": [
        "class Animal:\n",
        "    pass\n",
        "\n",
        "\n",
        "class Dog(Animal):\n",
        "    def __init__(self, name):\n",
        "        self.name = name\n",
        "        self.type = 'Dog'\n"
      ]
    },
    {
      "cell_type": "markdown",
      "source": [
        "1. Імена класів виправив на CamelCase.\n",
        "2. Додав два порожні рядки між визначеннями класів.\n",
        "3. Додав пробіли навколо оператора присвоєння.\n",
        "4. Виправив назви змінних та параметрів для більшої читабельності.\n",
        "5. Додав порожній рядок в кінці файлу."
      ],
      "metadata": {
        "id": "ASLRjpoxFcKu"
      },
      "id": "ASLRjpoxFcKu"
    },
    {
      "cell_type": "markdown",
      "id": "7d1d4f5d",
      "metadata": {
        "id": "7d1d4f5d"
      },
      "source": [
        "Завдання 4."
      ]
    },
    {
      "cell_type": "code",
      "execution_count": 8,
      "id": "a91c1cc4",
      "metadata": {
        "ExecuteTime": {
          "end_time": "2023-07-29T17:06:47.180263Z",
          "start_time": "2023-07-29T17:06:47.173617Z"
        },
        "id": "a91c1cc4",
        "outputId": "f067afed-6923-4848-c876-0134a655b25d",
        "colab": {
          "base_uri": "https://localhost:8080/"
        }
      },
      "outputs": [
        {
          "output_type": "stream",
          "name": "stdout",
          "text": [
            "1\n",
            "2\n",
            "3\n",
            "4\n",
            "5\n"
          ]
        }
      ],
      "source": [
        "list=[1,2,3,4,5]\n",
        "for i in range(len(list)):print(list[i])"
      ]
    },
    {
      "cell_type": "code",
      "execution_count": 9,
      "id": "c0f9541a",
      "metadata": {
        "id": "c0f9541a",
        "outputId": "1f70ee78-37e8-44a6-b23a-aa8498bb1291",
        "colab": {
          "base_uri": "https://localhost:8080/"
        }
      },
      "outputs": [
        {
          "output_type": "stream",
          "name": "stdout",
          "text": [
            "1\n",
            "2\n",
            "3\n",
            "4\n",
            "5\n"
          ]
        }
      ],
      "source": [
        "my_list = [1, 2, 3, 4, 5]\n",
        "\n",
        "for i in range(len(my_list)):\n",
        "    print(my_list[i])\n"
      ]
    },
    {
      "cell_type": "markdown",
      "source": [
        "1. Змінив назву list на my_list, бо list є вбудовануою функцією.\n",
        "2. Додав пробіли після ком для розділення елементів у списку.\n",
        "3. Додав відступ для print в тілі циклу.\n",
        "4. Додав порожній рядок в кінці файлу."
      ],
      "metadata": {
        "id": "72RhRl3hFtdy"
      },
      "id": "72RhRl3hFtdy"
    },
    {
      "cell_type": "markdown",
      "id": "8b0487e6",
      "metadata": {
        "id": "8b0487e6"
      },
      "source": [
        "5.У вас є DataFrame df, що представляє результати тестів студентів з математики, англійської мови та історії. Поточний код обчислює середній бал для кожного студента шляхом ітерації за рядками DataFrame за допомогою iterrows().\n",
        "\n",
        "Ваше завдання полягає в тому, щоб змінити код так, аби уникнути використання iterrows() і замість цього застосувати більш ефективне та читабельне рішення відповідно до правил, озвучених у лекції. Рефакторинг треба зробити лише частині, де рахуються середні, імпорт і визначення датафрейму лишаємо без змін."
      ]
    },
    {
      "cell_type": "code",
      "execution_count": 10,
      "id": "5b3cc648",
      "metadata": {
        "ExecuteTime": {
          "end_time": "2023-07-29T17:15:55.926882Z",
          "start_time": "2023-07-29T17:15:55.686415Z"
        },
        "id": "5b3cc648"
      },
      "outputs": [],
      "source": [
        "import pandas as pd\n",
        "\n",
        "df = pd.DataFrame({\n",
        "    'student': ['Alice', 'Bob', 'Charlie', 'David'],\n",
        "    'math_score': [89, 94, 77, 85],\n",
        "    'english_score': [92, 88, 79, 85],\n",
        "    'history_score': [84, 92, 81, 89]\n",
        "})"
      ]
    },
    {
      "cell_type": "code",
      "execution_count": 13,
      "id": "f5858889",
      "metadata": {
        "ExecuteTime": {
          "end_time": "2023-07-29T17:15:55.926882Z",
          "start_time": "2023-07-29T17:15:55.686415Z"
        },
        "id": "f5858889",
        "outputId": "b9827a08-d32b-48ac-bbca-c77a9b101952",
        "colab": {
          "base_uri": "https://localhost:8080/"
        }
      },
      "outputs": [
        {
          "output_type": "execute_result",
          "data": {
            "text/plain": [
              "[88.33333333333333, 91.33333333333333, 79.0, 86.33333333333333]"
            ]
          },
          "metadata": {},
          "execution_count": 13
        }
      ],
      "source": [
        "#averages = []\n",
        "#for _, row in df.iterrows():\n",
        "#    averages.append((row['math_score'] + row['english_score'] + row['history_score']) / 3)\n",
        "#\n",
        "#df['average_score'] = averages\n",
        "#averages"
      ]
    },
    {
      "cell_type": "code",
      "execution_count": 16,
      "id": "74cea4fc",
      "metadata": {
        "id": "74cea4fc",
        "outputId": "c2a8a9bc-6173-47ab-891a-53b4bff5f992",
        "colab": {
          "base_uri": "https://localhost:8080/",
          "height": 209
        }
      },
      "outputs": [
        {
          "output_type": "execute_result",
          "data": {
            "text/plain": [
              "0    88.333333\n",
              "1    91.333333\n",
              "2    79.000000\n",
              "3    86.333333\n",
              "dtype: float64"
            ],
            "text/html": [
              "<div>\n",
              "<style scoped>\n",
              "    .dataframe tbody tr th:only-of-type {\n",
              "        vertical-align: middle;\n",
              "    }\n",
              "\n",
              "    .dataframe tbody tr th {\n",
              "        vertical-align: top;\n",
              "    }\n",
              "\n",
              "    .dataframe thead th {\n",
              "        text-align: right;\n",
              "    }\n",
              "</style>\n",
              "<table border=\"1\" class=\"dataframe\">\n",
              "  <thead>\n",
              "    <tr style=\"text-align: right;\">\n",
              "      <th></th>\n",
              "      <th>0</th>\n",
              "    </tr>\n",
              "  </thead>\n",
              "  <tbody>\n",
              "    <tr>\n",
              "      <th>0</th>\n",
              "      <td>88.333333</td>\n",
              "    </tr>\n",
              "    <tr>\n",
              "      <th>1</th>\n",
              "      <td>91.333333</td>\n",
              "    </tr>\n",
              "    <tr>\n",
              "      <th>2</th>\n",
              "      <td>79.000000</td>\n",
              "    </tr>\n",
              "    <tr>\n",
              "      <th>3</th>\n",
              "      <td>86.333333</td>\n",
              "    </tr>\n",
              "  </tbody>\n",
              "</table>\n",
              "</div><br><label><b>dtype:</b> float64</label>"
            ]
          },
          "metadata": {},
          "execution_count": 16
        }
      ],
      "source": [
        "averages = df['average_score'] = df[['math_score', 'english_score', 'history_score']].mean(axis=1)\n",
        "averages"
      ]
    },
    {
      "cell_type": "markdown",
      "id": "34fb1db9",
      "metadata": {
        "id": "34fb1db9"
      },
      "source": [
        "6.У Вас є великий DataFrame df, що представляє транзакції продажу в магазині. Цей DataFrame містить понад 1 мільйон рядків і кілька стовпців, зокрема «product_name», «product_category», «product_price» і «transaction_date».\n",
        "\n",
        "І «product_name», і «product_category» є рядками, що представляють численні, але обмежені унікальні назви продуктів і категорії відповідно.\n",
        "\n",
        "Напишіть код для ефективного перетворення стовпців «product_name» і «product_category» на категорійний тип для ефективного використання пам’яті.\n",
        "Спробуйте вирішити це завдання, мінімізуючи використання пам'яті та зберігаючи читабельність коду. Крім того, виміряйте використання пам’яті до та після перетворення, щоб продемонструвати підвищення ефективності.\n",
        "\n",
        "Порівняйте кількість памʼяті, яку займає наданий набір даних і новий, створений Вами. В лекції був приклад. В скільки разів менше памʼяті займає новий датафрейм?"
      ]
    },
    {
      "cell_type": "code",
      "execution_count": 23,
      "id": "d4926909",
      "metadata": {
        "ExecuteTime": {
          "end_time": "2023-07-29T21:19:30.009527Z",
          "start_time": "2023-07-29T21:19:29.595210Z"
        },
        "id": "d4926909"
      },
      "outputs": [],
      "source": [
        "import pandas as pd\n",
        "import numpy as np\n",
        "\n",
        "np.random.seed(0)\n",
        "\n",
        "products = ['apple', 'banana', 'cherry', 'dates', 'elderberry']\n",
        "categories = ['fruit', 'fruit', 'fruit', 'fruit', 'fruit']\n",
        "\n",
        "N_ROWS = 10**6\n",
        "df = pd.DataFrame({\n",
        "    'product_name': np.random.choice(products, N_ROWS),\n",
        "    'product_category': np.random.choice(categories, N_ROWS),\n",
        "    'product_price': np.random.uniform(1, 10, N_ROWS),\n",
        "    'transaction_date': pd.date_range(start='1/1/2000', periods=N_ROWS, freq='h')\n",
        "})\n",
        "start_memory_usage = df.memory_usage(deep=True).sum()"
      ]
    },
    {
      "cell_type": "code",
      "source": [
        "df['product_name'] = df['product_name'].astype('category')\n",
        "df['product_category'] = df['product_category'].astype('category')\n",
        "\n",
        "final_memory_usage = df.memory_usage(deep=True).sum()"
      ],
      "metadata": {
        "id": "2ERRp8kaHm07"
      },
      "id": "2ERRp8kaHm07",
      "execution_count": 24,
      "outputs": []
    },
    {
      "cell_type": "code",
      "source": [
        "print(f\"Використання пам'яті до редагування: {start_memory_usage / 1024 ** 2:.2f} MB\")\n",
        "print(f\"Використання пам'яті після редагування: {final_memory_usage / 1024 ** 2:.2f} MB\")\n",
        "print(f\"В скільки разів зменшилось використання пам'яті: {start_memory_usage / final_memory_usage:.2f} рази\")"
      ],
      "metadata": {
        "id": "IL1-uGY0HxcL",
        "outputId": "4a1f1959-f58e-410e-c8c9-68070ecab8d9",
        "colab": {
          "base_uri": "https://localhost:8080/"
        }
      },
      "id": "IL1-uGY0HxcL",
      "execution_count": 25,
      "outputs": [
        {
          "output_type": "stream",
          "name": "stdout",
          "text": [
            "Використання пам'яті до редагування: 134.85 MB\n",
            "Використання пам'яті після редагування: 17.17 MB\n",
            "В скільки разів зменшилось використання пам'яті: 7.86 рази\n"
          ]
        }
      ]
    },
    {
      "cell_type": "markdown",
      "id": "131cc08d",
      "metadata": {
        "id": "131cc08d"
      },
      "source": [
        "7.В цьому завданні кілька пунктів. Треба виконати усі послідовно.   \n",
        "    7.1. Завантажте дані у pandas dataframe з файла `ecommerce_data.csv`. Обовʼязково при завантаженні вкажіть параметр `encoding = 'ISO-8859-1'`, без нього буде помилка.  \n",
        "    7.2. Заповніть пропущені значення в колонці CustomerID на -1 та перетворіть тип цієї колонки на str, адже зараз вона типу float, а це не правильний тип даних для ідентифікатора клієнта.  \n",
        "    7.3. З допомогою бібліотеки sweetviz побудуйте html звіт, який порівнює дані для країни \"Germany\" і країни \"France\". У Вас можуть виникнути багато попереджень (Warning), їх рекомендую вимкнути наступним шматком коду   \n",
        "    \n",
        "   \n",
        "    import warnings\n",
        "\n",
        "    with warnings.catch_warnings(record=True):\n",
        "        # your code\n",
        "    \n",
        "    \n",
        "   7.4.Напишіть 5 відмінностей для двох зазначених країн на основі побудованого звіту, без виконання додаткового аналізу іншими інструментами."
      ]
    },
    {
      "cell_type": "code",
      "source": [
        "from google.colab import drive\n",
        "drive.mount('/content/drive')"
      ],
      "metadata": {
        "id": "F9r6fy8bK-mz",
        "outputId": "6f67f382-b44a-4136-bed4-691409763df0",
        "colab": {
          "base_uri": "https://localhost:8080/"
        }
      },
      "id": "F9r6fy8bK-mz",
      "execution_count": 37,
      "outputs": [
        {
          "output_type": "stream",
          "name": "stdout",
          "text": [
            "Mounted at /content/drive\n"
          ]
        }
      ]
    },
    {
      "cell_type": "code",
      "execution_count": 40,
      "id": "17200e77",
      "metadata": {
        "id": "17200e77",
        "outputId": "928ab61f-26c2-4661-a5db-b3c142f7d88d",
        "colab": {
          "base_uri": "https://localhost:8080/",
          "height": 206
        }
      },
      "outputs": [
        {
          "output_type": "execute_result",
          "data": {
            "text/plain": [
              "  InvoiceNo StockCode                          Description  Quantity  \\\n",
              "0    536365    85123A   WHITE HANGING HEART T-LIGHT HOLDER         6   \n",
              "1    536365     71053                  WHITE METAL LANTERN         6   \n",
              "2    536365    84406B       CREAM CUPID HEARTS COAT HANGER         8   \n",
              "3    536365    84029G  KNITTED UNION FLAG HOT WATER BOTTLE         6   \n",
              "4    536365    84029E       RED WOOLLY HOTTIE WHITE HEART.         6   \n",
              "\n",
              "      InvoiceDate  UnitPrice  CustomerID         Country  \n",
              "0  12/1/2010 8:26       2.55     17850.0  United Kingdom  \n",
              "1  12/1/2010 8:26       3.39     17850.0  United Kingdom  \n",
              "2  12/1/2010 8:26       2.75     17850.0  United Kingdom  \n",
              "3  12/1/2010 8:26       3.39     17850.0  United Kingdom  \n",
              "4  12/1/2010 8:26       3.39     17850.0  United Kingdom  "
            ],
            "text/html": [
              "\n",
              "  <div id=\"df-c909b07f-5433-471f-a4df-dfa1ec4e4013\" class=\"colab-df-container\">\n",
              "    <div>\n",
              "<style scoped>\n",
              "    .dataframe tbody tr th:only-of-type {\n",
              "        vertical-align: middle;\n",
              "    }\n",
              "\n",
              "    .dataframe tbody tr th {\n",
              "        vertical-align: top;\n",
              "    }\n",
              "\n",
              "    .dataframe thead th {\n",
              "        text-align: right;\n",
              "    }\n",
              "</style>\n",
              "<table border=\"1\" class=\"dataframe\">\n",
              "  <thead>\n",
              "    <tr style=\"text-align: right;\">\n",
              "      <th></th>\n",
              "      <th>InvoiceNo</th>\n",
              "      <th>StockCode</th>\n",
              "      <th>Description</th>\n",
              "      <th>Quantity</th>\n",
              "      <th>InvoiceDate</th>\n",
              "      <th>UnitPrice</th>\n",
              "      <th>CustomerID</th>\n",
              "      <th>Country</th>\n",
              "    </tr>\n",
              "  </thead>\n",
              "  <tbody>\n",
              "    <tr>\n",
              "      <th>0</th>\n",
              "      <td>536365</td>\n",
              "      <td>85123A</td>\n",
              "      <td>WHITE HANGING HEART T-LIGHT HOLDER</td>\n",
              "      <td>6</td>\n",
              "      <td>12/1/2010 8:26</td>\n",
              "      <td>2.55</td>\n",
              "      <td>17850.0</td>\n",
              "      <td>United Kingdom</td>\n",
              "    </tr>\n",
              "    <tr>\n",
              "      <th>1</th>\n",
              "      <td>536365</td>\n",
              "      <td>71053</td>\n",
              "      <td>WHITE METAL LANTERN</td>\n",
              "      <td>6</td>\n",
              "      <td>12/1/2010 8:26</td>\n",
              "      <td>3.39</td>\n",
              "      <td>17850.0</td>\n",
              "      <td>United Kingdom</td>\n",
              "    </tr>\n",
              "    <tr>\n",
              "      <th>2</th>\n",
              "      <td>536365</td>\n",
              "      <td>84406B</td>\n",
              "      <td>CREAM CUPID HEARTS COAT HANGER</td>\n",
              "      <td>8</td>\n",
              "      <td>12/1/2010 8:26</td>\n",
              "      <td>2.75</td>\n",
              "      <td>17850.0</td>\n",
              "      <td>United Kingdom</td>\n",
              "    </tr>\n",
              "    <tr>\n",
              "      <th>3</th>\n",
              "      <td>536365</td>\n",
              "      <td>84029G</td>\n",
              "      <td>KNITTED UNION FLAG HOT WATER BOTTLE</td>\n",
              "      <td>6</td>\n",
              "      <td>12/1/2010 8:26</td>\n",
              "      <td>3.39</td>\n",
              "      <td>17850.0</td>\n",
              "      <td>United Kingdom</td>\n",
              "    </tr>\n",
              "    <tr>\n",
              "      <th>4</th>\n",
              "      <td>536365</td>\n",
              "      <td>84029E</td>\n",
              "      <td>RED WOOLLY HOTTIE WHITE HEART.</td>\n",
              "      <td>6</td>\n",
              "      <td>12/1/2010 8:26</td>\n",
              "      <td>3.39</td>\n",
              "      <td>17850.0</td>\n",
              "      <td>United Kingdom</td>\n",
              "    </tr>\n",
              "  </tbody>\n",
              "</table>\n",
              "</div>\n",
              "    <div class=\"colab-df-buttons\">\n",
              "\n",
              "  <div class=\"colab-df-container\">\n",
              "    <button class=\"colab-df-convert\" onclick=\"convertToInteractive('df-c909b07f-5433-471f-a4df-dfa1ec4e4013')\"\n",
              "            title=\"Convert this dataframe to an interactive table.\"\n",
              "            style=\"display:none;\">\n",
              "\n",
              "  <svg xmlns=\"http://www.w3.org/2000/svg\" height=\"24px\" viewBox=\"0 -960 960 960\">\n",
              "    <path d=\"M120-120v-720h720v720H120Zm60-500h600v-160H180v160Zm220 220h160v-160H400v160Zm0 220h160v-160H400v160ZM180-400h160v-160H180v160Zm440 0h160v-160H620v160ZM180-180h160v-160H180v160Zm440 0h160v-160H620v160Z\"/>\n",
              "  </svg>\n",
              "    </button>\n",
              "\n",
              "  <style>\n",
              "    .colab-df-container {\n",
              "      display:flex;\n",
              "      gap: 12px;\n",
              "    }\n",
              "\n",
              "    .colab-df-convert {\n",
              "      background-color: #E8F0FE;\n",
              "      border: none;\n",
              "      border-radius: 50%;\n",
              "      cursor: pointer;\n",
              "      display: none;\n",
              "      fill: #1967D2;\n",
              "      height: 32px;\n",
              "      padding: 0 0 0 0;\n",
              "      width: 32px;\n",
              "    }\n",
              "\n",
              "    .colab-df-convert:hover {\n",
              "      background-color: #E2EBFA;\n",
              "      box-shadow: 0px 1px 2px rgba(60, 64, 67, 0.3), 0px 1px 3px 1px rgba(60, 64, 67, 0.15);\n",
              "      fill: #174EA6;\n",
              "    }\n",
              "\n",
              "    .colab-df-buttons div {\n",
              "      margin-bottom: 4px;\n",
              "    }\n",
              "\n",
              "    [theme=dark] .colab-df-convert {\n",
              "      background-color: #3B4455;\n",
              "      fill: #D2E3FC;\n",
              "    }\n",
              "\n",
              "    [theme=dark] .colab-df-convert:hover {\n",
              "      background-color: #434B5C;\n",
              "      box-shadow: 0px 1px 3px 1px rgba(0, 0, 0, 0.15);\n",
              "      filter: drop-shadow(0px 1px 2px rgba(0, 0, 0, 0.3));\n",
              "      fill: #FFFFFF;\n",
              "    }\n",
              "  </style>\n",
              "\n",
              "    <script>\n",
              "      const buttonEl =\n",
              "        document.querySelector('#df-c909b07f-5433-471f-a4df-dfa1ec4e4013 button.colab-df-convert');\n",
              "      buttonEl.style.display =\n",
              "        google.colab.kernel.accessAllowed ? 'block' : 'none';\n",
              "\n",
              "      async function convertToInteractive(key) {\n",
              "        const element = document.querySelector('#df-c909b07f-5433-471f-a4df-dfa1ec4e4013');\n",
              "        const dataTable =\n",
              "          await google.colab.kernel.invokeFunction('convertToInteractive',\n",
              "                                                    [key], {});\n",
              "        if (!dataTable) return;\n",
              "\n",
              "        const docLinkHtml = 'Like what you see? Visit the ' +\n",
              "          '<a target=\"_blank\" href=https://colab.research.google.com/notebooks/data_table.ipynb>data table notebook</a>'\n",
              "          + ' to learn more about interactive tables.';\n",
              "        element.innerHTML = '';\n",
              "        dataTable['output_type'] = 'display_data';\n",
              "        await google.colab.output.renderOutput(dataTable, element);\n",
              "        const docLink = document.createElement('div');\n",
              "        docLink.innerHTML = docLinkHtml;\n",
              "        element.appendChild(docLink);\n",
              "      }\n",
              "    </script>\n",
              "  </div>\n",
              "\n",
              "\n",
              "<div id=\"df-770987d9-c29d-4424-8bb1-25313537bebc\">\n",
              "  <button class=\"colab-df-quickchart\" onclick=\"quickchart('df-770987d9-c29d-4424-8bb1-25313537bebc')\"\n",
              "            title=\"Suggest charts\"\n",
              "            style=\"display:none;\">\n",
              "\n",
              "<svg xmlns=\"http://www.w3.org/2000/svg\" height=\"24px\"viewBox=\"0 0 24 24\"\n",
              "     width=\"24px\">\n",
              "    <g>\n",
              "        <path d=\"M19 3H5c-1.1 0-2 .9-2 2v14c0 1.1.9 2 2 2h14c1.1 0 2-.9 2-2V5c0-1.1-.9-2-2-2zM9 17H7v-7h2v7zm4 0h-2V7h2v10zm4 0h-2v-4h2v4z\"/>\n",
              "    </g>\n",
              "</svg>\n",
              "  </button>\n",
              "\n",
              "<style>\n",
              "  .colab-df-quickchart {\n",
              "      --bg-color: #E8F0FE;\n",
              "      --fill-color: #1967D2;\n",
              "      --hover-bg-color: #E2EBFA;\n",
              "      --hover-fill-color: #174EA6;\n",
              "      --disabled-fill-color: #AAA;\n",
              "      --disabled-bg-color: #DDD;\n",
              "  }\n",
              "\n",
              "  [theme=dark] .colab-df-quickchart {\n",
              "      --bg-color: #3B4455;\n",
              "      --fill-color: #D2E3FC;\n",
              "      --hover-bg-color: #434B5C;\n",
              "      --hover-fill-color: #FFFFFF;\n",
              "      --disabled-bg-color: #3B4455;\n",
              "      --disabled-fill-color: #666;\n",
              "  }\n",
              "\n",
              "  .colab-df-quickchart {\n",
              "    background-color: var(--bg-color);\n",
              "    border: none;\n",
              "    border-radius: 50%;\n",
              "    cursor: pointer;\n",
              "    display: none;\n",
              "    fill: var(--fill-color);\n",
              "    height: 32px;\n",
              "    padding: 0;\n",
              "    width: 32px;\n",
              "  }\n",
              "\n",
              "  .colab-df-quickchart:hover {\n",
              "    background-color: var(--hover-bg-color);\n",
              "    box-shadow: 0 1px 2px rgba(60, 64, 67, 0.3), 0 1px 3px 1px rgba(60, 64, 67, 0.15);\n",
              "    fill: var(--button-hover-fill-color);\n",
              "  }\n",
              "\n",
              "  .colab-df-quickchart-complete:disabled,\n",
              "  .colab-df-quickchart-complete:disabled:hover {\n",
              "    background-color: var(--disabled-bg-color);\n",
              "    fill: var(--disabled-fill-color);\n",
              "    box-shadow: none;\n",
              "  }\n",
              "\n",
              "  .colab-df-spinner {\n",
              "    border: 2px solid var(--fill-color);\n",
              "    border-color: transparent;\n",
              "    border-bottom-color: var(--fill-color);\n",
              "    animation:\n",
              "      spin 1s steps(1) infinite;\n",
              "  }\n",
              "\n",
              "  @keyframes spin {\n",
              "    0% {\n",
              "      border-color: transparent;\n",
              "      border-bottom-color: var(--fill-color);\n",
              "      border-left-color: var(--fill-color);\n",
              "    }\n",
              "    20% {\n",
              "      border-color: transparent;\n",
              "      border-left-color: var(--fill-color);\n",
              "      border-top-color: var(--fill-color);\n",
              "    }\n",
              "    30% {\n",
              "      border-color: transparent;\n",
              "      border-left-color: var(--fill-color);\n",
              "      border-top-color: var(--fill-color);\n",
              "      border-right-color: var(--fill-color);\n",
              "    }\n",
              "    40% {\n",
              "      border-color: transparent;\n",
              "      border-right-color: var(--fill-color);\n",
              "      border-top-color: var(--fill-color);\n",
              "    }\n",
              "    60% {\n",
              "      border-color: transparent;\n",
              "      border-right-color: var(--fill-color);\n",
              "    }\n",
              "    80% {\n",
              "      border-color: transparent;\n",
              "      border-right-color: var(--fill-color);\n",
              "      border-bottom-color: var(--fill-color);\n",
              "    }\n",
              "    90% {\n",
              "      border-color: transparent;\n",
              "      border-bottom-color: var(--fill-color);\n",
              "    }\n",
              "  }\n",
              "</style>\n",
              "\n",
              "  <script>\n",
              "    async function quickchart(key) {\n",
              "      const quickchartButtonEl =\n",
              "        document.querySelector('#' + key + ' button');\n",
              "      quickchartButtonEl.disabled = true;  // To prevent multiple clicks.\n",
              "      quickchartButtonEl.classList.add('colab-df-spinner');\n",
              "      try {\n",
              "        const charts = await google.colab.kernel.invokeFunction(\n",
              "            'suggestCharts', [key], {});\n",
              "      } catch (error) {\n",
              "        console.error('Error during call to suggestCharts:', error);\n",
              "      }\n",
              "      quickchartButtonEl.classList.remove('colab-df-spinner');\n",
              "      quickchartButtonEl.classList.add('colab-df-quickchart-complete');\n",
              "    }\n",
              "    (() => {\n",
              "      let quickchartButtonEl =\n",
              "        document.querySelector('#df-770987d9-c29d-4424-8bb1-25313537bebc button');\n",
              "      quickchartButtonEl.style.display =\n",
              "        google.colab.kernel.accessAllowed ? 'block' : 'none';\n",
              "    })();\n",
              "  </script>\n",
              "</div>\n",
              "    </div>\n",
              "  </div>\n"
            ],
            "application/vnd.google.colaboratory.intrinsic+json": {
              "type": "dataframe",
              "variable_name": "df"
            }
          },
          "metadata": {},
          "execution_count": 40
        }
      ],
      "source": [
        "import pandas as pd\n",
        "\n",
        "df = pd.read_csv('/content/drive/MyDrive/data/ecommerce_data.csv', encoding='ISO-8859-1')\n",
        "\n",
        "df.head()"
      ]
    },
    {
      "cell_type": "code",
      "source": [
        "df['CustomerID'] = df['CustomerID'].fillna(-1).astype(str)\n",
        "\n",
        "df['CustomerID'].head()"
      ],
      "metadata": {
        "id": "bSOzybDyLWcC",
        "outputId": "7d1f8597-6acc-4591-f2d6-0d0b88c7a95f",
        "colab": {
          "base_uri": "https://localhost:8080/",
          "height": 241
        }
      },
      "id": "bSOzybDyLWcC",
      "execution_count": 42,
      "outputs": [
        {
          "output_type": "execute_result",
          "data": {
            "text/plain": [
              "0    17850.0\n",
              "1    17850.0\n",
              "2    17850.0\n",
              "3    17850.0\n",
              "4    17850.0\n",
              "Name: CustomerID, dtype: object"
            ],
            "text/html": [
              "<div>\n",
              "<style scoped>\n",
              "    .dataframe tbody tr th:only-of-type {\n",
              "        vertical-align: middle;\n",
              "    }\n",
              "\n",
              "    .dataframe tbody tr th {\n",
              "        vertical-align: top;\n",
              "    }\n",
              "\n",
              "    .dataframe thead th {\n",
              "        text-align: right;\n",
              "    }\n",
              "</style>\n",
              "<table border=\"1\" class=\"dataframe\">\n",
              "  <thead>\n",
              "    <tr style=\"text-align: right;\">\n",
              "      <th></th>\n",
              "      <th>CustomerID</th>\n",
              "    </tr>\n",
              "  </thead>\n",
              "  <tbody>\n",
              "    <tr>\n",
              "      <th>0</th>\n",
              "      <td>17850.0</td>\n",
              "    </tr>\n",
              "    <tr>\n",
              "      <th>1</th>\n",
              "      <td>17850.0</td>\n",
              "    </tr>\n",
              "    <tr>\n",
              "      <th>2</th>\n",
              "      <td>17850.0</td>\n",
              "    </tr>\n",
              "    <tr>\n",
              "      <th>3</th>\n",
              "      <td>17850.0</td>\n",
              "    </tr>\n",
              "    <tr>\n",
              "      <th>4</th>\n",
              "      <td>17850.0</td>\n",
              "    </tr>\n",
              "  </tbody>\n",
              "</table>\n",
              "</div><br><label><b>dtype:</b> object</label>"
            ]
          },
          "metadata": {},
          "execution_count": 42
        }
      ]
    },
    {
      "cell_type": "code",
      "source": [
        "!pip install sweetviz"
      ],
      "metadata": {
        "id": "0XLIaVrXL9gH",
        "outputId": "66eb55bf-cabc-4aab-e084-f84f0d06bb41",
        "colab": {
          "base_uri": "https://localhost:8080/"
        }
      },
      "id": "0XLIaVrXL9gH",
      "execution_count": 48,
      "outputs": [
        {
          "output_type": "stream",
          "name": "stdout",
          "text": [
            "Requirement already satisfied: sweetviz in /usr/local/lib/python3.10/dist-packages (2.3.1)\n",
            "Requirement already satisfied: pandas!=1.0.0,!=1.0.1,!=1.0.2,>=0.25.3 in /usr/local/lib/python3.10/dist-packages (from sweetviz) (2.2.2)\n",
            "Requirement already satisfied: numpy>=1.16.0 in /usr/local/lib/python3.10/dist-packages (from sweetviz) (1.26.4)\n",
            "Requirement already satisfied: matplotlib>=3.1.3 in /usr/local/lib/python3.10/dist-packages (from sweetviz) (3.7.1)\n",
            "Requirement already satisfied: tqdm>=4.43.0 in /usr/local/lib/python3.10/dist-packages (from sweetviz) (4.66.5)\n",
            "Requirement already satisfied: scipy>=1.3.2 in /usr/local/lib/python3.10/dist-packages (from sweetviz) (1.13.1)\n",
            "Requirement already satisfied: jinja2>=2.11.1 in /usr/local/lib/python3.10/dist-packages (from sweetviz) (3.1.4)\n",
            "Requirement already satisfied: importlib-resources>=1.2.0 in /usr/local/lib/python3.10/dist-packages (from sweetviz) (6.4.5)\n",
            "Requirement already satisfied: MarkupSafe>=2.0 in /usr/local/lib/python3.10/dist-packages (from jinja2>=2.11.1->sweetviz) (3.0.1)\n",
            "Requirement already satisfied: contourpy>=1.0.1 in /usr/local/lib/python3.10/dist-packages (from matplotlib>=3.1.3->sweetviz) (1.3.0)\n",
            "Requirement already satisfied: cycler>=0.10 in /usr/local/lib/python3.10/dist-packages (from matplotlib>=3.1.3->sweetviz) (0.12.1)\n",
            "Requirement already satisfied: fonttools>=4.22.0 in /usr/local/lib/python3.10/dist-packages (from matplotlib>=3.1.3->sweetviz) (4.54.1)\n",
            "Requirement already satisfied: kiwisolver>=1.0.1 in /usr/local/lib/python3.10/dist-packages (from matplotlib>=3.1.3->sweetviz) (1.4.7)\n",
            "Requirement already satisfied: packaging>=20.0 in /usr/local/lib/python3.10/dist-packages (from matplotlib>=3.1.3->sweetviz) (24.1)\n",
            "Requirement already satisfied: pillow>=6.2.0 in /usr/local/lib/python3.10/dist-packages (from matplotlib>=3.1.3->sweetviz) (10.4.0)\n",
            "Requirement already satisfied: pyparsing>=2.3.1 in /usr/local/lib/python3.10/dist-packages (from matplotlib>=3.1.3->sweetviz) (3.2.0)\n",
            "Requirement already satisfied: python-dateutil>=2.7 in /usr/local/lib/python3.10/dist-packages (from matplotlib>=3.1.3->sweetviz) (2.8.2)\n",
            "Requirement already satisfied: pytz>=2020.1 in /usr/local/lib/python3.10/dist-packages (from pandas!=1.0.0,!=1.0.1,!=1.0.2,>=0.25.3->sweetviz) (2024.2)\n",
            "Requirement already satisfied: tzdata>=2022.7 in /usr/local/lib/python3.10/dist-packages (from pandas!=1.0.0,!=1.0.1,!=1.0.2,>=0.25.3->sweetviz) (2024.2)\n",
            "Requirement already satisfied: six>=1.5 in /usr/local/lib/python3.10/dist-packages (from python-dateutil>=2.7->matplotlib>=3.1.3->sweetviz) (1.16.0)\n"
          ]
        }
      ]
    },
    {
      "cell_type": "code",
      "source": [
        "import warnings\n",
        "import sweetviz as sv\n",
        "\n",
        "with warnings.catch_warnings(record=True):\n",
        "    germany_data = df[df['Country'] == 'Germany']\n",
        "    france_data = df[df['Country'] == 'France']\n",
        "\n",
        "report = sv.compare([germany_data, \"Germany\"], [france_data, \"France\"])\n",
        "report.show_html(\"ecommerce_comparison_germany_france.html\")"
      ],
      "metadata": {
        "id": "bussVXo3LaeV",
        "outputId": "184cef0a-9954-4146-b269-c8b5082b4548",
        "colab": {
          "base_uri": "https://localhost:8080/",
          "height": 66,
          "referenced_widgets": [
            "a2dda9d7c01541c3a0ce0af46b2d63ed",
            "60291e0fc8ee4efab36a8307004da1b3",
            "7114a5d1c8ae4f0ea55f848df9cae6d8",
            "d26e936895dd4ed2878c2a93656954a9",
            "a81e5f1c131e4a8c94b29e9241ff13e0",
            "3c0fb7bfa3da4a42af78bec650158b43",
            "e07cb824d4784d0b8ac987ae47eeecfd",
            "3794444a48934889abfc913c5eaa670a",
            "25dddcd8b7694370bef1f73ed14d7dc0",
            "8129b0d2956246f3ad6a38cb00d375be",
            "8c919cea69774695a072957a53f50ac3"
          ]
        }
      },
      "id": "bussVXo3LaeV",
      "execution_count": 56,
      "outputs": [
        {
          "output_type": "display_data",
          "data": {
            "text/plain": [
              "                                             |          | [  0%]   00:00 -> (? left)"
            ],
            "application/vnd.jupyter.widget-view+json": {
              "version_major": 2,
              "version_minor": 0,
              "model_id": "a2dda9d7c01541c3a0ce0af46b2d63ed"
            }
          },
          "metadata": {}
        },
        {
          "output_type": "stream",
          "name": "stdout",
          "text": [
            "Report ecommerce_comparison_germany_france.html was generated! NOTEBOOK/COLAB USERS: the web browser MAY not pop up, regardless, the report IS saved in your notebook/colab files.\n"
          ]
        }
      ]
    },
    {
      "cell_type": "code",
      "source": [
        "report.show_html()"
      ],
      "metadata": {
        "id": "yZfm8r0yNI3C",
        "outputId": "32c14b03-00b6-4d97-e332-287d945195ba",
        "colab": {
          "base_uri": "https://localhost:8080/"
        }
      },
      "id": "yZfm8r0yNI3C",
      "execution_count": 57,
      "outputs": [
        {
          "output_type": "stream",
          "name": "stdout",
          "text": [
            "Report SWEETVIZ_REPORT.html was generated! NOTEBOOK/COLAB USERS: the web browser MAY not pop up, regardless, the report IS saved in your notebook/colab files.\n"
          ]
        }
      ]
    },
    {
      "cell_type": "markdown",
      "source": [
        "якщо чесно, тут нічого не зрозумів, що це за бібліотека і як я повинен зробити якісь висновки якщо я не бачу результату. Тут якщо можете поясніть будь ласка, в чаті гпт ліміт на повідомлення, тож не можу у нього спитати, а в інтернеті бачу що треба якісь ще додатки відкривати. Тож 7.3 і 7.4 не виконав і не знаю, не розумію як виконувати"
      ],
      "metadata": {
        "id": "LTW-KoIFNOi6"
      },
      "id": "LTW-KoIFNOi6"
    },
    {
      "cell_type": "markdown",
      "id": "07ae375a",
      "metadata": {
        "ExecuteTime": {
          "end_time": "2023-07-30T18:55:42.650457Z",
          "start_time": "2023-07-30T18:55:42.635729Z"
        },
        "id": "07ae375a"
      },
      "source": [
        "8.З допомогою ChatGPT виявіть, чи є та які помилки в наступному коді.  \n",
        "Попросіть після цього переписати код із дотриманням PEP8. Проаналізуйте результат. Чи справді ChatGPT виправив всі стилістичні помилки? Якщо ні, напишіть йому ще кілька запитів, аби код відповідав вимогам PEP8.  \n",
        "Вставте фінальну версію коду з чату у ноутбук та запустіть на заданому списку. Має вертатись 50.  \n",
        "Напишіть, які промпти (інструкції) при зверненні до ChatGPT ви застосували та додайте скріншот(-и) з промптами та відповідями чата.  \n",
        "Якщо зробили висновки при виконанні цього завдання, то діліться також :)\n",
        "\n",
        "**ЯК ВСТАВИТИ СКРІНШОТ в Jupyter Notebook** :\n",
        "1. Створіть нову Markdown клітинку\n",
        "2. В новоствореній клітинці обираєте в меню Jupyter Notebook Edit -> Insert Image\n",
        "3. Обираєте картинку\n",
        "4. В клітинці має зʼявитись текст, який містить картинку. Запустіть клітинку.\n",
        "\n",
        "Або можна просто перетягнути картинку в Markdown клітинку."
      ]
    },
    {
      "cell_type": "code",
      "execution_count": 34,
      "id": "a5c010c4",
      "metadata": {
        "ExecuteTime": {
          "end_time": "2023-07-30T19:16:20.977219Z",
          "start_time": "2023-07-30T19:16:20.973688Z"
        },
        "id": "a5c010c4",
        "outputId": "f70a01cc-32fc-4b06-80aa-59a35484a0ad",
        "colab": {
          "base_uri": "https://localhost:8080/"
        }
      },
      "outputs": [
        {
          "output_type": "execute_result",
          "data": {
            "text/plain": [
              "7275.0"
            ]
          },
          "metadata": {},
          "execution_count": 34
        }
      ],
      "source": [
        "def CalculateVariance(nl):\n",
        "    sum_list = 0\n",
        "    for n in nl:\n",
        "        sum_list = sum_list + n\n",
        "    mean = sum_list / len(nl)\n",
        "    sum_squares = 0\n",
        "    for n in nl:\n",
        "        sum_squares = sum_squares + n**2\n",
        "    mean_squares = sum_squares / len(nl)\n",
        "    return mean_squares\n",
        "\n",
        "CalculateVariance(input_list)"
      ]
    },
    {
      "cell_type": "code",
      "execution_count": 35,
      "id": "24bb3f81",
      "metadata": {
        "ExecuteTime": {
          "end_time": "2023-07-30T19:16:09.201841Z",
          "start_time": "2023-07-30T19:16:09.199174Z"
        },
        "id": "24bb3f81"
      },
      "outputs": [],
      "source": [
        "input_list = [75, 80, 85, 90, 95]"
      ]
    },
    {
      "cell_type": "code",
      "source": [
        "def calculate_variance(num_list):\n",
        "    mean = sum(num_list) / len(num_list)\n",
        "    sum_squares = sum(n**2 for n in num_list)\n",
        "    mean_squares = sum_squares / len(num_list)\n",
        "    return mean_squares\n",
        "\n",
        "input_list = [75, 80, 85, 90, 95]\n",
        "\n",
        "calculate_variance(input_list)"
      ],
      "metadata": {
        "id": "oFwdGBwEI8ss",
        "outputId": "0949eaa6-1428-41d8-c7dc-7b275ca2a09a",
        "colab": {
          "base_uri": "https://localhost:8080/"
        }
      },
      "id": "oFwdGBwEI8ss",
      "execution_count": 36,
      "outputs": [
        {
          "output_type": "execute_result",
          "data": {
            "text/plain": [
              "7275.0"
            ]
          },
          "metadata": {},
          "execution_count": 36
        }
      ]
    },
    {
      "cell_type": "markdown",
      "source": [
        "\"Вставте фінальну версію коду з чату у ноутбук та запустіть на заданому списку. Має вертатись 50\" - трошки оце не зрозумів, бо як може вийти 50, якщо в похідному коді ми отримуємо теж 7275. Або я щось не так зрозумів, або помилка в умові. Ще з цього приводу спитав чат гпт, що треба зробити, щоб отримати 50. Ось, що він відповів:\n",
        "\n",
        "\"Щоб отримати у відповіді 50, необхідно, щоб дисперсія значень списку дорівнювала 50. Це можна досягти шляхом зміни списку значень або масштабування результатів. Ось один зі способів:\n",
        "\n",
        "1. Зміна самого списку значень. Можна підібрати новий список, щоб дисперсія була 50.\n",
        "2. Масштабування результату. Можна просто домножити обчислену дисперсію на відповідний коефіцієнт.\""
      ],
      "metadata": {
        "id": "v5TVv961Jws1"
      },
      "id": "v5TVv961Jws1"
    },
    {
      "cell_type": "markdown",
      "source": [
        "![image.png](data:image/png;base64,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)\n"
      ],
      "metadata": {
        "id": "wIpkMM_ZJdjG"
      },
      "id": "wIpkMM_ZJdjG"
    },
    {
      "cell_type": "markdown",
      "source": [
        "![image.png](data:image/png;base64,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)"
      ],
      "metadata": {
        "id": "0A0_zdTSJprR"
      },
      "id": "0A0_zdTSJprR"
    }
  ],
  "metadata": {
    "kernelspec": {
      "display_name": "Python 3 (ipykernel)",
      "language": "python",
      "name": "python3"
    },
    "language_info": {
      "codemirror_mode": {
        "name": "ipython",
        "version": 3
      },
      "file_extension": ".py",
      "mimetype": "text/x-python",
      "name": "python",
      "nbconvert_exporter": "python",
      "pygments_lexer": "ipython3",
      "version": "3.10.4"
    },
    "toc": {
      "base_numbering": 1,
      "nav_menu": {},
      "number_sections": true,
      "sideBar": true,
      "skip_h1_title": false,
      "title_cell": "Table of Contents",
      "title_sidebar": "Contents",
      "toc_cell": false,
      "toc_position": {},
      "toc_section_display": true,
      "toc_window_display": false
    },
    "colab": {
      "provenance": [],
      "include_colab_link": true
    },
    "widgets": {
      "application/vnd.jupyter.widget-state+json": {
        "a2dda9d7c01541c3a0ce0af46b2d63ed": {
          "model_module": "@jupyter-widgets/controls",
          "model_name": "HBoxModel",
          "model_module_version": "1.5.0",
          "state": {
            "_dom_classes": [],
            "_model_module": "@jupyter-widgets/controls",
            "_model_module_version": "1.5.0",
            "_model_name": "HBoxModel",
            "_view_count": null,
            "_view_module": "@jupyter-widgets/controls",
            "_view_module_version": "1.5.0",
            "_view_name": "HBoxView",
            "box_style": "",
            "children": [
              "IPY_MODEL_60291e0fc8ee4efab36a8307004da1b3",
              "IPY_MODEL_7114a5d1c8ae4f0ea55f848df9cae6d8",
              "IPY_MODEL_d26e936895dd4ed2878c2a93656954a9"
            ],
            "layout": "IPY_MODEL_a81e5f1c131e4a8c94b29e9241ff13e0"
          }
        },
        "60291e0fc8ee4efab36a8307004da1b3": {
          "model_module": "@jupyter-widgets/controls",
          "model_name": "HTMLModel",
          "model_module_version": "1.5.0",
          "state": {
            "_dom_classes": [],
            "_model_module": "@jupyter-widgets/controls",
            "_model_module_version": "1.5.0",
            "_model_name": "HTMLModel",
            "_view_count": null,
            "_view_module": "@jupyter-widgets/controls",
            "_view_module_version": "1.5.0",
            "_view_name": "HTMLView",
            "description": "",
            "description_tooltip": null,
            "layout": "IPY_MODEL_3c0fb7bfa3da4a42af78bec650158b43",
            "placeholder": "​",
            "style": "IPY_MODEL_e07cb824d4784d0b8ac987ae47eeecfd",
            "value": "Done! Use &#x27;show&#x27; commands to display/save.   "
          }
        },
        "7114a5d1c8ae4f0ea55f848df9cae6d8": {
          "model_module": "@jupyter-widgets/controls",
          "model_name": "FloatProgressModel",
          "model_module_version": "1.5.0",
          "state": {
            "_dom_classes": [],
            "_model_module": "@jupyter-widgets/controls",
            "_model_module_version": "1.5.0",
            "_model_name": "FloatProgressModel",
            "_view_count": null,
            "_view_module": "@jupyter-widgets/controls",
            "_view_module_version": "1.5.0",
            "_view_name": "ProgressView",
            "bar_style": "success",
            "description": "",
            "description_tooltip": null,
            "layout": "IPY_MODEL_3794444a48934889abfc913c5eaa670a",
            "max": 1,
            "min": 0,
            "orientation": "horizontal",
            "style": "IPY_MODEL_25dddcd8b7694370bef1f73ed14d7dc0",
            "value": 1
          }
        },
        "d26e936895dd4ed2878c2a93656954a9": {
          "model_module": "@jupyter-widgets/controls",
          "model_name": "HTMLModel",
          "model_module_version": "1.5.0",
          "state": {
            "_dom_classes": [],
            "_model_module": "@jupyter-widgets/controls",
            "_model_module_version": "1.5.0",
            "_model_name": "HTMLModel",
            "_view_count": null,
            "_view_module": "@jupyter-widgets/controls",
            "_view_module_version": "1.5.0",
            "_view_name": "HTMLView",
            "description": "",
            "description_tooltip": null,
            "layout": "IPY_MODEL_8129b0d2956246f3ad6a38cb00d375be",
            "placeholder": "​",
            "style": "IPY_MODEL_8c919cea69774695a072957a53f50ac3",
            "value": " [100%]   00:01 -&gt; (00:00 left)"
          }
        },
        "a81e5f1c131e4a8c94b29e9241ff13e0": {
          "model_module": "@jupyter-widgets/base",
          "model_name": "LayoutModel",
          "model_module_version": "1.2.0",
          "state": {
            "_model_module": "@jupyter-widgets/base",
            "_model_module_version": "1.2.0",
            "_model_name": "LayoutModel",
            "_view_count": null,
            "_view_module": "@jupyter-widgets/base",
            "_view_module_version": "1.2.0",
            "_view_name": "LayoutView",
            "align_content": null,
            "align_items": null,
            "align_self": null,
            "border": null,
            "bottom": null,
            "display": "inline-flex",
            "flex": null,
            "flex_flow": "row wrap",
            "grid_area": null,
            "grid_auto_columns": null,
            "grid_auto_flow": null,
            "grid_auto_rows": null,
            "grid_column": null,
            "grid_gap": null,
            "grid_row": null,
            "grid_template_areas": null,
            "grid_template_columns": null,
            "grid_template_rows": null,
            "height": null,
            "justify_content": null,
            "justify_items": null,
            "left": null,
            "margin": null,
            "max_height": null,
            "max_width": null,
            "min_height": null,
            "min_width": null,
            "object_fit": null,
            "object_position": null,
            "order": null,
            "overflow": null,
            "overflow_x": null,
            "overflow_y": null,
            "padding": null,
            "right": null,
            "top": null,
            "visibility": null,
            "width": "100%"
          }
        },
        "3c0fb7bfa3da4a42af78bec650158b43": {
          "model_module": "@jupyter-widgets/base",
          "model_name": "LayoutModel",
          "model_module_version": "1.2.0",
          "state": {
            "_model_module": "@jupyter-widgets/base",
            "_model_module_version": "1.2.0",
            "_model_name": "LayoutModel",
            "_view_count": null,
            "_view_module": "@jupyter-widgets/base",
            "_view_module_version": "1.2.0",
            "_view_name": "LayoutView",
            "align_content": null,
            "align_items": null,
            "align_self": null,
            "border": null,
            "bottom": null,
            "display": null,
            "flex": null,
            "flex_flow": null,
            "grid_area": null,
            "grid_auto_columns": null,
            "grid_auto_flow": null,
            "grid_auto_rows": null,
            "grid_column": null,
            "grid_gap": null,
            "grid_row": null,
            "grid_template_areas": null,
            "grid_template_columns": null,
            "grid_template_rows": null,
            "height": null,
            "justify_content": null,
            "justify_items": null,
            "left": null,
            "margin": null,
            "max_height": null,
            "max_width": null,
            "min_height": null,
            "min_width": null,
            "object_fit": null,
            "object_position": null,
            "order": null,
            "overflow": null,
            "overflow_x": null,
            "overflow_y": null,
            "padding": null,
            "right": null,
            "top": null,
            "visibility": null,
            "width": null
          }
        },
        "e07cb824d4784d0b8ac987ae47eeecfd": {
          "model_module": "@jupyter-widgets/controls",
          "model_name": "DescriptionStyleModel",
          "model_module_version": "1.5.0",
          "state": {
            "_model_module": "@jupyter-widgets/controls",
            "_model_module_version": "1.5.0",
            "_model_name": "DescriptionStyleModel",
            "_view_count": null,
            "_view_module": "@jupyter-widgets/base",
            "_view_module_version": "1.2.0",
            "_view_name": "StyleView",
            "description_width": ""
          }
        },
        "3794444a48934889abfc913c5eaa670a": {
          "model_module": "@jupyter-widgets/base",
          "model_name": "LayoutModel",
          "model_module_version": "1.2.0",
          "state": {
            "_model_module": "@jupyter-widgets/base",
            "_model_module_version": "1.2.0",
            "_model_name": "LayoutModel",
            "_view_count": null,
            "_view_module": "@jupyter-widgets/base",
            "_view_module_version": "1.2.0",
            "_view_name": "LayoutView",
            "align_content": null,
            "align_items": null,
            "align_self": null,
            "border": null,
            "bottom": null,
            "display": null,
            "flex": "2",
            "flex_flow": null,
            "grid_area": null,
            "grid_auto_columns": null,
            "grid_auto_flow": null,
            "grid_auto_rows": null,
            "grid_column": null,
            "grid_gap": null,
            "grid_row": null,
            "grid_template_areas": null,
            "grid_template_columns": null,
            "grid_template_rows": null,
            "height": null,
            "justify_content": null,
            "justify_items": null,
            "left": null,
            "margin": null,
            "max_height": null,
            "max_width": null,
            "min_height": null,
            "min_width": null,
            "object_fit": null,
            "object_position": null,
            "order": null,
            "overflow": null,
            "overflow_x": null,
            "overflow_y": null,
            "padding": null,
            "right": null,
            "top": null,
            "visibility": null,
            "width": null
          }
        },
        "25dddcd8b7694370bef1f73ed14d7dc0": {
          "model_module": "@jupyter-widgets/controls",
          "model_name": "ProgressStyleModel",
          "model_module_version": "1.5.0",
          "state": {
            "_model_module": "@jupyter-widgets/controls",
            "_model_module_version": "1.5.0",
            "_model_name": "ProgressStyleModel",
            "_view_count": null,
            "_view_module": "@jupyter-widgets/base",
            "_view_module_version": "1.2.0",
            "_view_name": "StyleView",
            "bar_color": null,
            "description_width": ""
          }
        },
        "8129b0d2956246f3ad6a38cb00d375be": {
          "model_module": "@jupyter-widgets/base",
          "model_name": "LayoutModel",
          "model_module_version": "1.2.0",
          "state": {
            "_model_module": "@jupyter-widgets/base",
            "_model_module_version": "1.2.0",
            "_model_name": "LayoutModel",
            "_view_count": null,
            "_view_module": "@jupyter-widgets/base",
            "_view_module_version": "1.2.0",
            "_view_name": "LayoutView",
            "align_content": null,
            "align_items": null,
            "align_self": null,
            "border": null,
            "bottom": null,
            "display": null,
            "flex": null,
            "flex_flow": null,
            "grid_area": null,
            "grid_auto_columns": null,
            "grid_auto_flow": null,
            "grid_auto_rows": null,
            "grid_column": null,
            "grid_gap": null,
            "grid_row": null,
            "grid_template_areas": null,
            "grid_template_columns": null,
            "grid_template_rows": null,
            "height": null,
            "justify_content": null,
            "justify_items": null,
            "left": null,
            "margin": null,
            "max_height": null,
            "max_width": null,
            "min_height": null,
            "min_width": null,
            "object_fit": null,
            "object_position": null,
            "order": null,
            "overflow": null,
            "overflow_x": null,
            "overflow_y": null,
            "padding": null,
            "right": null,
            "top": null,
            "visibility": null,
            "width": null
          }
        },
        "8c919cea69774695a072957a53f50ac3": {
          "model_module": "@jupyter-widgets/controls",
          "model_name": "DescriptionStyleModel",
          "model_module_version": "1.5.0",
          "state": {
            "_model_module": "@jupyter-widgets/controls",
            "_model_module_version": "1.5.0",
            "_model_name": "DescriptionStyleModel",
            "_view_count": null,
            "_view_module": "@jupyter-widgets/base",
            "_view_module_version": "1.2.0",
            "_view_name": "StyleView",
            "description_width": ""
          }
        }
      }
    }
  },
  "nbformat": 4,
  "nbformat_minor": 5
}