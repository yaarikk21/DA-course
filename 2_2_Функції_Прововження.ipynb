{
  "cells": [
    {
      "cell_type": "markdown",
      "metadata": {
        "id": "view-in-github",
        "colab_type": "text"
      },
      "source": [
        "<a href=\"https://colab.research.google.com/github/yaarikk21/DA-course/blob/main/2_2_%D0%A4%D1%83%D0%BD%D0%BA%D1%86%D1%96%D1%97_%D0%9F%D1%80%D0%BE%D0%B2%D0%BE%D0%B2%D0%B6%D0%B5%D0%BD%D0%BD%D1%8F.ipynb\" target=\"_parent\"><img src=\"https://colab.research.google.com/assets/colab-badge.svg\" alt=\"Open In Colab\"/></a>"
      ]
    },
    {
      "cell_type": "markdown",
      "metadata": {
        "id": "981d9265"
      },
      "source": [
        "# Домашнє завдання до теми \"Functions\"\n",
        "В цьому домашньому завданні в деяких задачах є частини коду, та в кожному завданні описано, що з ними треба зробити, часто - просто виконати після того, як ви напишете частину, якої поки не вистачає. Пишіть, будь ласка, код, який реалізує рішення кожного завдання, безпосереньо під формулюванням завдання, створюючи нові клітинки. Можете створювати скільки завгодно клітинок для виконання одного завдання."
      ],
      "id": "981d9265"
    },
    {
      "cell_type": "markdown",
      "metadata": {
        "id": "eb55a967"
      },
      "source": [
        "1. Напишіть функцію `is_even`, яка для заданого числа визначає, чи воно є парним (тобто ділиться на 2 без остачі, наприклад 4, 10, 102). Функція має вертати результат типу bool.\n",
        "Продемонструйте результати робити функції запустивши код нижче."
      ],
      "id": "eb55a967"
    },
    {
      "cell_type": "code",
      "execution_count": 2,
      "metadata": {
        "ExecuteTime": {
          "end_time": "2023-06-13T09:48:47.072569Z",
          "start_time": "2023-06-13T09:48:47.068977Z"
        },
        "id": "66e68f7a"
      },
      "outputs": [],
      "source": [
        "def is_even(number: int) -> bool:\n",
        "  return number % 2 == 0\n",
        ""
      ],
      "id": "66e68f7a"
    },
    {
      "cell_type": "code",
      "execution_count": 3,
      "metadata": {
        "ExecuteTime": {
          "end_time": "2023-06-13T09:51:03.574283Z",
          "start_time": "2023-06-13T09:51:03.568715Z"
        },
        "id": "c60e04d1",
        "outputId": "df97eb7f-1f73-47f0-ec72-a0be71800bc0",
        "colab": {
          "base_uri": "https://localhost:8080/"
        }
      },
      "outputs": [
        {
          "output_type": "execute_result",
          "data": {
            "text/plain": [
              "[False, True, False, False, True]"
            ]
          },
          "metadata": {},
          "execution_count": 3
        }
      ],
      "source": [
        "[is_even(digit) for digit in [101, 2002, 3043, 5015, 8222]]"
      ],
      "id": "c60e04d1"
    },
    {
      "cell_type": "markdown",
      "source": [
        "2. Створіть функцію `sum_numbers`, яка приймає довільну кількість числових аргументів і повертає їх суму. Функція повинна працювати з будь-якою кількістю числових аргументів, включаючи випадки, коли аргументів немає.\n",
        "\n",
        "  **Приклади виклику функції:**\n",
        "\n",
        "  1. `sum_numbers(1, 2, 3, 4)` повинно повернути `10`.\n",
        "  2. `sum_numbers(10, 20)` повинно повернути `30`.\n",
        "  3. `sum_numbers()` повинно повернути `0`.\n",
        "\n",
        "  **Вимоги до реалізації:**\n",
        "\n",
        "  - Функція має використовувати `*args` для прийому довільної кількості аргументів.\n",
        "  - Функція має правильно обробляти випадок, коли їй не передано жодного аргумента.\n",
        "\n",
        "  Продемонструйте результати робити функції запустивши її на наведених наборах нижче."
      ],
      "metadata": {
        "id": "xPlxqkpyFkti"
      },
      "id": "xPlxqkpyFkti"
    },
    {
      "cell_type": "code",
      "source": [
        "def sum_numbers(*args) -> int:\n",
        "  return sum(args)"
      ],
      "metadata": {
        "id": "WjjXB8MqK5Kt"
      },
      "id": "WjjXB8MqK5Kt",
      "execution_count": 6,
      "outputs": []
    },
    {
      "cell_type": "code",
      "source": [
        "number_sets = [\n",
        "    (1, 2, 3, 4),\n",
        "    (10, 20),\n",
        "    (11, 12, 13),\n",
        "    (),\n",
        "    (-19, -164, 183)\n",
        "]"
      ],
      "metadata": {
        "id": "TyQnD-d1GNOM"
      },
      "execution_count": 7,
      "outputs": [],
      "id": "TyQnD-d1GNOM"
    },
    {
      "cell_type": "code",
      "source": [
        "for numbers in number_sets:\n",
        "  result = sum_numbers(*numbers)\n",
        "  print(result)"
      ],
      "metadata": {
        "id": "S_z07TQVLCQT",
        "outputId": "bc394a77-ac80-431e-b695-ec71ff04894e",
        "colab": {
          "base_uri": "https://localhost:8080/"
        }
      },
      "id": "S_z07TQVLCQT",
      "execution_count": 9,
      "outputs": [
        {
          "output_type": "stream",
          "name": "stdout",
          "text": [
            "10\n",
            "30\n",
            "36\n",
            "0\n",
            "0\n"
          ]
        }
      ]
    },
    {
      "cell_type": "markdown",
      "metadata": {
        "id": "d1769a5b"
      },
      "source": [
        "3. **Завдання на рефакторинг: Обчислення Індексу Маси Тіла (BMI).** Рефакторинг - стандартна практика при роботі зі своїм, чи чужим кодом в компанії. Тут ми дізнаємось, що це і попрактикуємось це робити.\n",
        "\n",
        "  У вашому розпорядженні є фрагмент коду, який обчислює [індекс маси тіла (BMI)](https://uk.wikipedia.org/wiki/%D0%86%D0%BD%D0%B4%D0%B5%D0%BA%D1%81_%D0%BC%D0%B0%D1%81%D0%B8_%D1%82%D1%96%D0%BB%D0%B0#:~:text=%D0%86%CC%81%D0%BD%D0%B4%D0%B5%D0%BA%D1%81%20%D0%BC%D0%B0%CC%81%D1%81%D0%B8%20%D1%82%D1%96%CC%81%D0%BB%D0%B0%20(%D0%86%D0%9C%D0%A2%2C%20%D0%B0%D0%BD%D0%B3%D0%BB,%D0%BD%D0%BE%D1%80%D0%BC%D0%B0%D0%BB%D1%8C%D0%BD%D0%BE%D1%8E%2C%20%D0%BD%D0%B0%D0%B4%D0%BC%D1%96%D1%80%D0%BD%D0%BE%D1%8E%20(%D0%BE%D0%B6%D0%B8%D1%80%D1%96%D0%BD%D0%BD%D1%8F%D0%BC) для п'яти осіб. Ваше завдання - рефакторити цей код, тобто оптимізувати його вигляд, виокремивши повторювані частини в окрему функцію. Мета рефакторингу - **зберегти функціонал існуючого коду**, але зробити його більш читабельним, зручним для розуміння та модифікації.   пʼяти осіб. Для обчислення індексу маси тіла треба розділити вагу на зріст, піднесений до квадрату.\n",
        "\n",
        "  Виділіть у функцію код, що дублюється (робить одні і ті ж самі операції, але з різними числами) так, аби результат збергісі **той самий**, але коду стало менше.\n",
        "\n",
        "  В кінці - запустіть свій відрефакторений фрагмент коду. Якщо Ваш код виводить не те ж саме, що наведений фрагмент до рефакторингу, завдання вважається не виконаним.\n",
        "\n",
        "  **Увага**: Це завдання - творче. Можна обгорнути даний код у функцію по-різному. Єдиної правильної відповіді нема. Буде перевірятись розуміння підходу \"винесення частин, що повторюються, у функцію\"."
      ],
      "id": "d1769a5b"
    },
    {
      "cell_type": "code",
      "execution_count": 10,
      "metadata": {
        "ExecuteTime": {
          "end_time": "2023-02-26T21:36:29.139957Z",
          "start_time": "2023-02-26T21:36:29.117743Z"
        },
        "id": "e0750a47",
        "outputId": "4c4ca8ba-4d4e-469b-d130-b7faf49629e9",
        "colab": {
          "base_uri": "https://localhost:8080/"
        }
      },
      "outputs": [
        {
          "output_type": "stream",
          "name": "stdout",
          "text": [
            "bmi person1 = 30\n",
            "bmi person2 = 29\n",
            "bmi person3 = 29\n",
            "bmi person4 = 24\n",
            "bmi person5 = 28\n"
          ]
        }
      ],
      "source": [
        "person1 = [80, 1.62]\n",
        "person2 = [69, 1.53]\n",
        "person3 = [80, 1.66]\n",
        "person4 = [80, 1.79]\n",
        "person5 = [72, 1.60]\n",
        "\n",
        "bmi_person1 = int(person1[0] / person1[1]**2)\n",
        "print(\"bmi {} = {}\".format('person1', bmi_person1))\n",
        "\n",
        "bmi_person2 = int(person2[0] / person2[1]**2)\n",
        "print(\"bmi {} = {}\".format('person2', bmi_person2))\n",
        "\n",
        "bmi_person3 = int(person3[0] / person3[1]**2)\n",
        "print(\"bmi {} = {}\".format('person3', bmi_person3))\n",
        "\n",
        "bmi_person4 = int(person4[0] / person4[1]**2)\n",
        "print(\"bmi {} = {}\".format('person4', bmi_person4))\n",
        "\n",
        "bmi_person5 = int(person5[0] / person5[1]**2)\n",
        "print(\"bmi {} = {}\".format('person5', bmi_person5))"
      ],
      "id": "e0750a47"
    },
    {
      "cell_type": "code",
      "source": [
        "def human_bmi(weight, height: float) -> int:\n",
        "  return (weight / height ** 2)\n",
        "people = [person1, person2, person3, person4, person5]\n",
        "for i, person in enumerate(people, start=1):\n",
        "  bmi = human_bmi(person[0], person[1])\n",
        "  print(f'bmi person{i} = {int(bmi)}')"
      ],
      "metadata": {
        "id": "MR3hny6hLFmu",
        "outputId": "a2250793-fa63-4e07-ba83-15df6b558e38",
        "colab": {
          "base_uri": "https://localhost:8080/"
        }
      },
      "id": "MR3hny6hLFmu",
      "execution_count": 30,
      "outputs": [
        {
          "output_type": "stream",
          "name": "stdout",
          "text": [
            "bmi person1 = 30\n",
            "bmi person2 = 29\n",
            "bmi person3 = 29\n",
            "bmi person4 = 24\n",
            "bmi person5 = 28\n"
          ]
        }
      ]
    },
    {
      "cell_type": "code",
      "source": [],
      "metadata": {
        "id": "xADZL3C3DTvr"
      },
      "id": "xADZL3C3DTvr",
      "execution_count": null,
      "outputs": []
    }
  ],
  "metadata": {
    "kernelspec": {
      "display_name": "Python 3 (ipykernel)",
      "language": "python",
      "name": "python3"
    },
    "language_info": {
      "codemirror_mode": {
        "name": "ipython",
        "version": 3
      },
      "file_extension": ".py",
      "mimetype": "text/x-python",
      "name": "python",
      "nbconvert_exporter": "python",
      "pygments_lexer": "ipython3",
      "version": "3.10.4"
    },
    "toc": {
      "base_numbering": 1,
      "nav_menu": {},
      "number_sections": true,
      "sideBar": true,
      "skip_h1_title": false,
      "title_cell": "Table of Contents",
      "title_sidebar": "Contents",
      "toc_cell": false,
      "toc_position": {},
      "toc_section_display": true,
      "toc_window_display": false
    },
    "colab": {
      "provenance": [],
      "include_colab_link": true
    }
  },
  "nbformat": 4,
  "nbformat_minor": 5
}