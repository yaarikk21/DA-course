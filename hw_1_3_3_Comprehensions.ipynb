{
  "nbformat": 4,
  "nbformat_minor": 0,
  "metadata": {
    "colab": {
      "provenance": [],
      "include_colab_link": true
    },
    "kernelspec": {
      "name": "python3",
      "display_name": "Python 3"
    },
    "language_info": {
      "name": "python"
    }
  },
  "cells": [
    {
      "cell_type": "markdown",
      "metadata": {
        "id": "view-in-github",
        "colab_type": "text"
      },
      "source": [
        "<a href=\"https://colab.research.google.com/github/yaarikk21/DA-course/blob/main/hw_1_3_3_Comprehensions.ipynb\" target=\"_parent\"><img src=\"https://colab.research.google.com/assets/colab-badge.svg\" alt=\"Open In Colab\"/></a>"
      ]
    },
    {
      "cell_type": "markdown",
      "source": [
        "#Домашнє завдання до теми \"Comprehensions в Python\""
      ],
      "metadata": {
        "id": "jGTe7raw9lB_"
      }
    },
    {
      "cell_type": "markdown",
      "source": [
        "Для наступних завдань у нас є наступний список:"
      ],
      "metadata": {
        "id": "grIbI4ZZ7miJ"
      }
    },
    {
      "cell_type": "code",
      "source": [
        "numbers = [42, 51, 29, 2, 13, 44, 80, 66, 16]"
      ],
      "metadata": {
        "id": "nFOAtgsP7nnc"
      },
      "execution_count": 3,
      "outputs": []
    },
    {
      "cell_type": "markdown",
      "source": [
        "1. Використовуючи цикл `for` cтворіть новий список `numbers_squared`, де кожен елемент списку `numbers` є домноженим на 2.\n",
        "\n",
        "Нагадаю, що фактично коли ми з допомогою циклу отримуємо новий список, то ми спочатку створюємо пустий список, а потім додаємо в нього новий елемент на кожній ітерації.\n",
        "\n",
        "Новий елемент буде в даному випадку результатом домножання чергового елемента вихідного списку `numbers` на 2."
      ],
      "metadata": {
        "id": "_sRe19Ym6zDc"
      }
    },
    {
      "cell_type": "code",
      "execution_count": 7,
      "metadata": {
        "id": "EhGdKWo06nGS",
        "outputId": "46d6520c-8a10-46c8-db67-f45f3fc7ef22",
        "colab": {
          "base_uri": "https://localhost:8080/"
        }
      },
      "outputs": [
        {
          "output_type": "stream",
          "name": "stdout",
          "text": [
            "84\n",
            "102\n",
            "58\n",
            "4\n",
            "26\n",
            "88\n",
            "160\n",
            "132\n",
            "32\n"
          ]
        }
      ],
      "source": [
        "numbers_squared = []\n",
        "for number in numbers:\n",
        "  print(number*2)"
      ]
    },
    {
      "cell_type": "markdown",
      "source": [
        "Очікуваний результат: `[84, 102, 58, 4, 26, 88, 160, 132, 32]`"
      ],
      "metadata": {
        "id": "XKpWtN8N64np"
      }
    },
    {
      "cell_type": "markdown",
      "source": [
        "2. Використовуючи `list comprehension` cтворіть новий список `numbers_squared_lh`, де кожен елемент списку `numbers` є домноженим 2.\n",
        "Так, операція, яку ми викнуємо над кожним елементом вихідного списку, та сама, що і в попередньому завданні, але інший спосіб отримання результату."
      ],
      "metadata": {
        "id": "aHmdOLkZ7eQ2"
      }
    },
    {
      "cell_type": "code",
      "source": [
        "numbers_squared = [number*2 for number in numbers ]\n",
        "numbers_squared"
      ],
      "metadata": {
        "id": "fsKlUM9x7T7n",
        "outputId": "d53df268-c050-48a7-b87d-fd96cb30c787",
        "colab": {
          "base_uri": "https://localhost:8080/"
        }
      },
      "execution_count": 8,
      "outputs": [
        {
          "output_type": "execute_result",
          "data": {
            "text/plain": [
              "[84, 102, 58, 4, 26, 88, 160, 132, 32]"
            ]
          },
          "metadata": {},
          "execution_count": 8
        }
      ]
    },
    {
      "cell_type": "markdown",
      "source": [
        "3. У нас вже є знайдене середнє значення за списком - воно визначене в змінній `numbers_mean`.\n",
        "\n",
        "  Використовуючи цикл, створіть новий список `numbers_gt_mean`, який порівнює кожен елемент з цим середнім значенням за списком за наступним правилом: \"якщо цей елемент спиcку `numbers` є більшим за `numbers_mean`, то запишемо 1, інакше 0\". Виведіть новий список на екран."
      ],
      "metadata": {
        "id": "tKpPGIQN7fc5"
      }
    },
    {
      "cell_type": "code",
      "source": [
        "numbers_mean = 38.11"
      ],
      "metadata": {
        "id": "FKGz-HqgwAdX"
      },
      "execution_count": 10,
      "outputs": []
    },
    {
      "cell_type": "code",
      "source": [
        "numbers_gt_mean = []\n",
        "for number in numbers:\n",
        "  if number > numbers_mean:\n",
        "    print(1)\n",
        "  else:\n",
        "    print(0)"
      ],
      "metadata": {
        "id": "obelsT8N72Lp",
        "outputId": "bf3ed007-5cf6-43dc-c575-d810632d40ab",
        "colab": {
          "base_uri": "https://localhost:8080/"
        }
      },
      "execution_count": 11,
      "outputs": [
        {
          "output_type": "stream",
          "name": "stdout",
          "text": [
            "1\n",
            "1\n",
            "0\n",
            "0\n",
            "0\n",
            "1\n",
            "1\n",
            "1\n",
            "0\n"
          ]
        }
      ]
    },
    {
      "cell_type": "markdown",
      "source": [
        "Очікуваний результат: `[1, 1, 0, 0, 0, 1, 1, 1, 0]`"
      ],
      "metadata": {
        "id": "kRUDVSRs720X"
      }
    },
    {
      "cell_type": "markdown",
      "source": [
        "4. Отримайте список за тим самим правилом, що в завданні 3, тільки тепер з list comprehension. Результат запишіть у змінну `numbers_gt_mean_lc`"
      ],
      "metadata": {
        "id": "dudK-NlE76z8"
      }
    },
    {
      "cell_type": "code",
      "source": [
        "numbers_gt_mean_lc = []\n",
        "numbers_gt_mean_lc = [1 if number > numbers_mean else 0 for number in numbers]\n",
        "numbers_gt_mean_lc"
      ],
      "metadata": {
        "id": "kpnfXkUu76Ao",
        "outputId": "cbf8a7a7-28eb-4218-e6d3-2f9be85a90b0",
        "colab": {
          "base_uri": "https://localhost:8080/"
        }
      },
      "execution_count": 13,
      "outputs": [
        {
          "output_type": "execute_result",
          "data": {
            "text/plain": [
              "[1, 1, 0, 0, 0, 1, 1, 1, 0]"
            ]
          },
          "metadata": {},
          "execution_count": 13
        }
      ]
    },
    {
      "cell_type": "markdown",
      "source": [
        "5. Заданий список `long`. З допомогою циклу створіть словник `n_repeats`, який містить інформацію \"скільки разів повторюється кожен унікальний елемент списку `long`\".\n",
        "Наприклад:\n",
        "```\n",
        "long = [1, 1, 2, 2, 3]\n",
        "# тоді `n_repeats` містить {1: 2, 2: 2, 3: 1}\n",
        "```\n",
        "\n",
        "Аби для кожного унікального елементу знайти, скільки разів він повторюється, виористайте метод списку `list.count(<елемент>)`.\n",
        "Виведіть `n_repeats` на екран.\n",
        "\n",
        "**Підказки**:\n",
        "1. Для початку може бути зручно отримати набір унікальних елементів списку.\n",
        "2. Порядок ключів в словнику не має значення! Тобто ключі в словнику не обовʼязково мають бути в тому ж порядку, як наведено в прикладі результату. Але кількості зустрічань для кожного елемента мають співпадати з наведеними."
      ],
      "metadata": {
        "id": "muQmE3Mz8KDx"
      }
    },
    {
      "cell_type": "code",
      "source": [
        "long = [75, 39, 95, 1, 91, 43, 97, 24, 86, 75, 92, 91, 15, 15, 75, 95, 54, 29, 55, 98]"
      ],
      "metadata": {
        "id": "T_MDOYpa8Khu"
      },
      "execution_count": 14,
      "outputs": []
    },
    {
      "cell_type": "code",
      "source": [
        "n_repeats = {}\n",
        "for element in long:\n",
        "    n_repeats[element] = long.count(element)\n",
        "n_repeats"
      ],
      "metadata": {
        "id": "FCUf8p3y8RG0",
        "outputId": "95a9001a-9a94-4013-b1ae-2792be677485",
        "colab": {
          "base_uri": "https://localhost:8080/"
        }
      },
      "execution_count": 21,
      "outputs": [
        {
          "output_type": "execute_result",
          "data": {
            "text/plain": [
              "{75: 3,\n",
              " 39: 1,\n",
              " 95: 2,\n",
              " 1: 1,\n",
              " 91: 2,\n",
              " 43: 1,\n",
              " 97: 1,\n",
              " 24: 1,\n",
              " 86: 1,\n",
              " 92: 1,\n",
              " 15: 2,\n",
              " 54: 1,\n",
              " 29: 1,\n",
              " 55: 1,\n",
              " 98: 1}"
            ]
          },
          "metadata": {},
          "execution_count": 21
        }
      ]
    },
    {
      "cell_type": "markdown",
      "source": [
        "Очікуваний результат:\n",
        "```\n",
        "{1: 1, 97: 1, 98: 1, 39: 1, 75: 3, 43: 1, 15: 2, 55: 1, 86: 1, 54: 1, 24: 1, 91: 2, 92: 1, 29: 1, 95: 2}\n",
        "\n",
        "```"
      ],
      "metadata": {
        "id": "WQbGyWde8RkT"
      }
    },
    {
      "cell_type": "markdown",
      "source": [
        "6. Виконайте ту саму операцію, що і в попередньому заваднні, але використовуючи `dict comprehension`. Результат запишіть у змінну `n_repeats_dh` та результат виведіть на екран."
      ],
      "metadata": {
        "id": "W-nelSSP8VeG"
      }
    },
    {
      "cell_type": "code",
      "source": [
        "n_repeats_dh = {element: long.count(element) for element in (long)}\n",
        "n_repeats_dh"
      ],
      "metadata": {
        "id": "gDz_kE0N8YM4",
        "outputId": "c3a0060d-cf49-49ab-8879-f0a2c3fcd773",
        "colab": {
          "base_uri": "https://localhost:8080/"
        }
      },
      "execution_count": 30,
      "outputs": [
        {
          "output_type": "execute_result",
          "data": {
            "text/plain": [
              "{75: 3,\n",
              " 39: 1,\n",
              " 95: 2,\n",
              " 1: 1,\n",
              " 91: 2,\n",
              " 43: 1,\n",
              " 97: 1,\n",
              " 24: 1,\n",
              " 86: 1,\n",
              " 92: 1,\n",
              " 15: 2,\n",
              " 54: 1,\n",
              " 29: 1,\n",
              " 55: 1,\n",
              " 98: 1}"
            ]
          },
          "metadata": {},
          "execution_count": 30
        }
      ]
    },
    {
      "cell_type": "markdown",
      "source": [
        "7. Знайдіть три найменші **унікальні** елементи в списку `long` та виведіть їх на екран."
      ],
      "metadata": {
        "id": "Th5wKghw8aYj"
      }
    },
    {
      "cell_type": "code",
      "source": [
        "unique_elements = sorted(n_repeats_dh.keys())\n",
        "smallest_elements = unique_elements[:3]\n",
        "smallest_elements"
      ],
      "metadata": {
        "id": "NG9PvlnK8a2Q",
        "outputId": "11c641e3-6040-4778-85f6-e5e830910284",
        "colab": {
          "base_uri": "https://localhost:8080/"
        }
      },
      "execution_count": 32,
      "outputs": [
        {
          "output_type": "execute_result",
          "data": {
            "text/plain": [
              "[1, 15, 24]"
            ]
          },
          "metadata": {},
          "execution_count": 32
        }
      ]
    },
    {
      "cell_type": "markdown",
      "source": [
        "Очікувана відповідь: [1, 15, 24]"
      ],
      "metadata": {
        "id": "XOW0GDBK8cn7"
      }
    }
  ]
}